{
 "cells": [
  {
   "cell_type": "code",
   "execution_count": 10,
   "id": "120e66b2",
   "metadata": {},
   "outputs": [
    {
     "name": "stderr",
     "output_type": "stream",
     "text": [
      "ibmqfactory.load_account:WARNING:2023-12-15 14:13:34,880: Credentials are already in use. The existing account in the session will be replaced.\n"
     ]
    },
    {
     "name": "stdout",
     "output_type": "stream",
     "text": [
      "Job Status: job has successfully run\n",
      "random bit: 1\n"
     ]
    }
   ],
   "source": [
    "from qiskit import *\n",
    "from qiskit.tools.monitor import job_monitor\n",
    "\n",
    "def random_num():\n",
    "    # create quantum circuit with 1 qubit and 1 classical register\n",
    "    circuit = QuantumCircuit(1,1)\n",
    "    \n",
    "    # apply Hadamart gate on first qubit to create superposition\n",
    "    circuit.h(0)\n",
    "    \n",
    "    # get qubit measure\n",
    "    circuit.measure(0,0)\n",
    "    \n",
    "    # load IBM credentials and access device\n",
    "    IBMQ.load_account()\n",
    "    provider = IBMQ.get_provider('ibm-q')\n",
    "    qcomp = provider.get_backend('ibm_kyoto')\n",
    "    \n",
    "    # execute the quantum circuit\n",
    "    job = execute(circuit, backend=qcomp)\n",
    "    job_monitor(job)\n",
    "    \n",
    "    # access the result and random bit\n",
    "    result = job.result()\n",
    "    counts = result.get_counts(circuit)\n",
    "    random_bit = int(counts.most_frequent(), 2)\n",
    "    \n",
    "    return random_bit\n",
    "\n",
    "random_bit = random_num()\n",
    "print(\"Random bit:\", random_bit)"
   ]
  },
  {
   "cell_type": "code",
   "execution_count": null,
   "id": "478ca6ce",
   "metadata": {},
   "outputs": [],
   "source": []
  }
 ],
 "metadata": {
  "kernelspec": {
   "display_name": "Python 3 (ipykernel)",
   "language": "python",
   "name": "python3"
  },
  "language_info": {
   "codemirror_mode": {
    "name": "ipython",
    "version": 3
   },
   "file_extension": ".py",
   "mimetype": "text/x-python",
   "name": "python",
   "nbconvert_exporter": "python",
   "pygments_lexer": "ipython3",
   "version": "3.9.13"
  }
 },
 "nbformat": 4,
 "nbformat_minor": 5
}
